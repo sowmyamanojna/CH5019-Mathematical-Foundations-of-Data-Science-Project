{
 "cells": [
  {
   "cell_type": "code",
   "execution_count": 16,
   "metadata": {},
   "outputs": [],
   "source": [
    "import numpy as np\n",
    "import os\n",
    "import glob\n",
    "import matplotlib.pyplot as plt\n",
    "%matplotlib inline"
   ]
  },
  {
   "cell_type": "code",
   "execution_count": 17,
   "metadata": {},
   "outputs": [],
   "source": [
    "pwd = os.getcwd()\n",
    "data_wd = pwd+\"/Dataset_Question1/1/\"\n",
    "os.chdir(data_wd)\n",
    "names = sorted(glob.glob(\"*.pgm\"))\n",
    "names = sorted(names,key=lambda x: int(os.path.splitext(x)[0]))\n",
    "os.chdir(pwd)"
   ]
  },
  {
   "cell_type": "code",
   "execution_count": 18,
   "metadata": {},
   "outputs": [
    {
     "name": "stdout",
     "output_type": "stream",
     "text": [
      "(4096, 10)\n",
      "64\n",
      "64\n"
     ]
    }
   ],
   "source": [
    "os.chdir(data_wd)\n",
    "d1, d2 = plt.imread(names[0]).shape\n",
    "num = len(names)\n",
    "F = np.zeros((d1, d2, num))\n",
    "for n, i in enumerate(names):\n",
    "    F[:, :, n] = (plt.imread(i,0).astype(np.double)) / 255.\n",
    "os.chdir(pwd)\n",
    "F = F.reshape(d1 * d2, num)\n",
    "clip = 10\n",
    "print(F.shape)\n",
    "print(d1)\n",
    "print(d2)"
   ]
  },
  {
   "cell_type": "code",
   "execution_count": 19,
   "metadata": {},
   "outputs": [],
   "source": [
    "F_average = np.zeros(d1*d2)\n",
    "F_average = np.mean(F,axis=1)\n",
    "A = np.zeros((d1*d2,num))\n",
    "for i in range(num):\n",
    "    A[:,i] = F[:,i] -F_average[:] "
   ]
  },
  {
   "cell_type": "code",
   "execution_count": 20,
   "metadata": {},
   "outputs": [],
   "source": [
    "u, s, vh = np.linalg.svd(A, full_matrices=True)"
   ]
  },
  {
   "cell_type": "code",
   "execution_count": 21,
   "metadata": {},
   "outputs": [],
   "source": [
    "X = np.dot(np.transpose(u),u)"
   ]
  },
  {
   "cell_type": "code",
   "execution_count": 22,
   "metadata": {},
   "outputs": [
    {
     "data": {
      "text/plain": [
       "array([[ 0.02535451, -0.006358  ,  0.06093281, ...,  0.01324864,\n",
       "         0.06363289, -0.05185444],\n",
       "       [-0.00681905, -0.01303588,  0.0890212 , ..., -0.00726304,\n",
       "         0.02813606, -0.04705973],\n",
       "       [ 0.03407157, -0.00779957,  0.03439851, ...,  0.01830175,\n",
       "        -0.01964345, -0.03656701],\n",
       "       ...,\n",
       "       [ 0.31549749,  0.11309855, -0.20733779, ...,  0.24695859,\n",
       "         0.14790175, -0.20952638],\n",
       "       [ 0.20260712,  0.05105796, -0.08339994, ...,  0.28279892,\n",
       "        -0.13220504, -0.0897306 ],\n",
       "       [ 0.22031582,  0.05379227, -0.07979303, ...,  0.30528609,\n",
       "        -0.15401557, -0.10493162]])"
      ]
     },
     "execution_count": 22,
     "metadata": {},
     "output_type": "execute_result"
    }
   ],
   "source": [
    "np.dot(A,vh)"
   ]
  },
  {
   "cell_type": "code",
   "execution_count": 23,
   "metadata": {},
   "outputs": [
    {
     "data": {
      "text/plain": [
       "array([1.20553930e+01, 1.14488054e+01, 1.07479699e+01, 7.86422491e+00,\n",
       "       6.72020869e+00, 5.72194261e+00, 4.68554543e+00, 4.46855259e+00,\n",
       "       4.00480076e+00, 1.13433505e-14])"
      ]
     },
     "execution_count": 23,
     "metadata": {},
     "output_type": "execute_result"
    }
   ],
   "source": [
    "s"
   ]
  }
 ],
 "metadata": {
  "kernelspec": {
   "display_name": "Python 3",
   "language": "python",
   "name": "python3"
  },
  "language_info": {
   "codemirror_mode": {
    "name": "ipython",
    "version": 3
   },
   "file_extension": ".py",
   "mimetype": "text/x-python",
   "name": "python",
   "nbconvert_exporter": "python",
   "pygments_lexer": "ipython3",
   "version": "3.8.2"
  }
 },
 "nbformat": 4,
 "nbformat_minor": 2
}
